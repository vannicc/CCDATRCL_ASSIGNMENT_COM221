{
  "cells": [
    {
      "cell_type": "markdown",
      "metadata": {
        "id": "view-in-github",
        "colab_type": "text"
      },
      "source": [
        "<a href=\"https://colab.research.google.com/github/vannicc/CCDATRCL_ASSIGNMENT_COM221/blob/main/Exercise2_LIM.ipynb\" target=\"_parent\"><img src=\"https://colab.research.google.com/assets/colab-badge.svg\" alt=\"Open In Colab\"/></a>"
      ]
    },
    {
      "cell_type": "markdown",
      "metadata": {
        "id": "QNWAYtOH8JJM"
      },
      "source": [
        "# Exercise 2"
      ]
    },
    {
      "cell_type": "markdown",
      "metadata": {
        "id": "WqS_i0U78JJQ"
      },
      "source": [
        "#### Pre-defined stack functions"
      ]
    },
    {
      "cell_type": "code",
      "execution_count": 132,
      "metadata": {
        "id": "Q55AdD2y8JJR"
      },
      "outputs": [],
      "source": [
        "# Creating a stack\n",
        "def create_stack():\n",
        "    stack = []\n",
        "    return stack\n",
        "\n",
        "def print_stack(stack):\n",
        "\n",
        "    if (check_empty(stack)):\n",
        "            return \"stack is empty\"\n",
        "\n",
        "    # Create a copy of the stack and reverse the elements\n",
        "    tempStack = stack.copy()\n",
        "    tempStack.reverse()\n",
        "\n",
        "    # Print all elements using a loop\n",
        "    for i in tempStack:\n",
        "        print(i)\n",
        "\n",
        "    # Delete the copy to free up memory\n",
        "    del tempStack\n",
        "\n",
        "# Creating an empty stack\n",
        "def check_empty(stack):\n",
        "    return len(stack) == 0\n",
        "\n",
        "\n",
        "# Adding items into the stack\n",
        "def push(stack, item):\n",
        "    stack.append(item)\n",
        "    print(\"pushed item: \", item)\n",
        "\n",
        "\n",
        "# Removing an element from the stack\n",
        "def pop(stack):\n",
        "    if (check_empty(stack)):\n",
        "        return \"stack is empty\"\n",
        "\n",
        "    return stack.pop()\n",
        "\n",
        "def peek(stack):\n",
        "\n",
        "    # Use negative indexing to display the last element of the list\n",
        "    print(stack[-1])\n"
      ]
    },
    {
      "cell_type": "markdown",
      "metadata": {
        "id": "z5FA3bY38JJT"
      },
      "source": [
        "#### 1. Create a burger stack.  \n",
        "\n",
        "The output of the stack should be in this order:\n",
        "\n",
        "- Bun\n",
        "\n",
        "- Tomato\n",
        "\n",
        "- Lettuce\n",
        "\n",
        "- Cheese\n",
        "\n",
        "- Patty\n",
        "\n",
        "- Bun"
      ]
    },
    {
      "cell_type": "code",
      "execution_count": 139,
      "metadata": {
        "colab": {
          "base_uri": "https://localhost:8080/"
        },
        "outputId": "8a2f7529-3c76-4405-99da-48af81837bcf",
        "id": "_5iX08iA3KY4"
      },
      "outputs": [
        {
          "output_type": "stream",
          "name": "stdout",
          "text": [
            "pushed item:  Bun\n",
            "pushed item:  Patty\n",
            "pushed item:  Cheese\n",
            "pushed item:  Lettuce\n",
            "pushed item:  Tomato\n",
            "pushed item:  Bun\n",
            "\n",
            "Output:\n",
            "Bun\n",
            "Tomato\n",
            "Lettuce\n",
            "Cheese\n",
            "Patty\n",
            "Bun\n"
          ]
        }
      ],
      "source": [
        "# Put your answer here\n",
        "burger_stack = create_stack()\n",
        "\n",
        "push(burger_stack,'Bun')\n",
        "push(burger_stack,'Patty')\n",
        "push(burger_stack,'Cheese')\n",
        "push(burger_stack,'Lettuce')\n",
        "push(burger_stack,'Tomato')\n",
        "push(burger_stack,'Bun')\n",
        "\n",
        "print('\\nOutput:')\n",
        "print_stack(burger_stack)"
      ]
    },
    {
      "cell_type": "markdown",
      "metadata": {
        "id": "W4XvryDA8JJU"
      },
      "source": [
        "#### 2. Reverse a string using a stack\n",
        "\n",
        "Given two stacks:\n",
        "\n",
        "**name_stack = ['E', 'L', 'I', 'Z', 'E', 'R', 'P', 'O', 'N', 'I', 'O', 'J', 'R']**\n",
        "\n",
        "**reversed_stack = []**\n",
        "\n",
        "Use your full name and pop each letter from the **name_stack** and push each element into the **reversed_stack**\n",
        "\n",
        "-----------------\n",
        "**Expected output:**\n",
        "\n",
        "print(reversed_stack)\n",
        "\n",
        "['R', 'J', 'O', 'I', 'N', 'O', 'P', 'R', 'E', 'Z', 'I', 'L', 'E']"
      ]
    },
    {
      "cell_type": "code",
      "execution_count": 140,
      "metadata": {
        "id": "BuPMzC-g8JJV",
        "colab": {
          "base_uri": "https://localhost:8080/"
        },
        "outputId": "419f9385-0827-4809-bfc6-8b2872356bbb"
      },
      "outputs": [
        {
          "output_type": "stream",
          "name": "stdout",
          "text": [
            "pushed item:  J\n",
            "pushed item:  E\n",
            "pushed item:  R\n",
            "pushed item:  I\n",
            "pushed item:  C\n",
            "pushed item:  O\n",
            "\n",
            "\n",
            "pushed item:  O\n",
            "pushed item:  C\n",
            "pushed item:  I\n",
            "pushed item:  R\n",
            "pushed item:  E\n",
            "pushed item:  J\n",
            "\n",
            "Output:\n",
            "['O', 'C', 'I', 'R', 'E', 'J']\n"
          ]
        }
      ],
      "source": [
        "# put your answer here\n",
        "name_stack = create_stack()\n",
        "reversed_stack = create_stack()\n",
        "\n",
        "push(name_stack,'J')\n",
        "push(name_stack,'E')\n",
        "push(name_stack,'R')\n",
        "push(name_stack,'I')\n",
        "push(name_stack,'C')\n",
        "push(name_stack,'O')\n",
        "print('\\n')\n",
        "\n",
        "while not(check_empty(name_stack)):\n",
        "  push(reversed_stack, pop(name_stack))\n",
        "\n",
        "print('\\nOutput:')\n",
        "print(reversed_stack)\n",
        "\n",
        "\n"
      ]
    },
    {
      "cell_type": "markdown",
      "metadata": {
        "id": "coRKfCPZ8JJV"
      },
      "source": [
        "#### 3. Remove elements using a stack\n",
        "\n",
        "Given this stack:\n",
        "\n",
        "numbers = [1,2,3,4,5,6,7,8,9,10]\n",
        "\n",
        "Using the **pop()** function, push elements in the **new_stack** if they are an **even number**\n",
        "\n",
        "-----------------\n",
        "\n",
        "**Expected output:**\n",
        "\n",
        "print(numbers)\n",
        "\n",
        "[2,4,6,8,10]"
      ]
    },
    {
      "cell_type": "code",
      "execution_count": 143,
      "metadata": {
        "id": "zTXYampp8JJV",
        "colab": {
          "base_uri": "https://localhost:8080/"
        },
        "outputId": "99a03ff5-e130-40e8-c439-713fbe18330e"
      },
      "outputs": [
        {
          "output_type": "stream",
          "name": "stdout",
          "text": [
            "pushed item:  1\n",
            "pushed item:  2\n",
            "pushed item:  3\n",
            "pushed item:  4\n",
            "pushed item:  5\n",
            "pushed item:  6\n",
            "pushed item:  7\n",
            "pushed item:  8\n",
            "pushed item:  9\n",
            "pushed item:  10\n",
            "pushed item:  10\n",
            "pushed item:  8\n",
            "pushed item:  6\n",
            "pushed item:  4\n",
            "pushed item:  2\n",
            "\n",
            "Output:\n",
            "[2, 4, 6, 8, 10]\n"
          ]
        }
      ],
      "source": [
        "# put your answer here\n",
        "numbers = create_stack()\n",
        "new_stack = create_stack()\n",
        "push(numbers, 1)\n",
        "push(numbers, 2)\n",
        "push(numbers, 3)\n",
        "push(numbers, 4)\n",
        "push(numbers, 5)\n",
        "push(numbers, 6)\n",
        "push(numbers, 7)\n",
        "push(numbers, 8)\n",
        "push(numbers, 9)\n",
        "push(numbers, 10)\n",
        "\n",
        "while not(check_empty(numbers)):\n",
        "  item = pop(numbers)\n",
        "  if (item % 2 == 0):\n",
        "    push(new_stack, item)\n",
        "\n",
        "new_stack.reverse()\n",
        "print('\\nOutput:')\n",
        "print(new_stack)"
      ]
    },
    {
      "cell_type": "markdown",
      "metadata": {
        "id": "1s4LGmuT8JJW"
      },
      "source": [
        "#### 4. Inserting elements into a stack\n",
        "\n",
        "Given two stacks:\n",
        "\n",
        "my_stack = ['E', 'L', 'I', 'Z', 'E', 'R', 'P', 'O', 'N', 'I', 'O', 'J', 'R']\n",
        "\n",
        "empty_stack = []\n",
        "\n",
        "Use **pop()** to get each element from  **my_stack** and use **push()** to insert the element to **empty_stack** only if:\n",
        "\n",
        "1. The element is a **vowel**\n",
        "2. The element does not exist in **empty_stack**\n",
        "\n",
        "----------------------\n",
        "\n",
        "**Expected output:**\n",
        "\n",
        "print_stack(empty_stack)\n",
        "\n",
        "['E', 'I', 'O']"
      ]
    },
    {
      "cell_type": "code",
      "execution_count": 162,
      "metadata": {
        "id": "cGXh7yd18JJW",
        "colab": {
          "base_uri": "https://localhost:8080/"
        },
        "outputId": "f29a91c1-6e8a-4bd9-e738-ce1ff755e4ce"
      },
      "outputs": [
        {
          "output_type": "stream",
          "name": "stdout",
          "text": [
            "pushed item:  E\n",
            "pushed item:  L\n",
            "pushed item:  I\n",
            "pushed item:  Z\n",
            "pushed item:  E\n",
            "pushed item:  R\n",
            "pushed item:  P\n",
            "pushed item:  O\n",
            "pushed item:  N\n",
            "pushed item:  I\n",
            "pushed item:  O\n",
            "pushed item:  J\n",
            "pushed item:  R\n",
            "pushed item:  O\n",
            "pushed item:  I\n",
            "pushed item:  E\n",
            "\n",
            "Output:\n",
            "E\n",
            "I\n",
            "O\n"
          ]
        }
      ],
      "source": [
        "# put your answer here\n",
        "my_stack = create_stack()\n",
        "empty_stack = create_stack()\n",
        "\n",
        "push(my_stack, 'E')\n",
        "push(my_stack, 'L')\n",
        "push(my_stack, 'I')\n",
        "push(my_stack, 'Z')\n",
        "push(my_stack, 'E')\n",
        "push(my_stack, 'R')\n",
        "push(my_stack, 'P')\n",
        "push(my_stack, 'O')\n",
        "push(my_stack, 'N')\n",
        "push(my_stack, 'I')\n",
        "push(my_stack, 'O')\n",
        "push(my_stack, 'J')\n",
        "push(my_stack, 'R')\n",
        "\n",
        "while not(check_empty(my_stack)):\n",
        "  item = pop(my_stack)\n",
        "  if (not(item in empty_stack) and item in \"AEIOU\"):\n",
        "      push(empty_stack, item)\n",
        "\n",
        "print('\\nOutput:')\n",
        "print_stack(empty_stack)"
      ]
    },
    {
      "cell_type": "markdown",
      "metadata": {
        "id": "cwtpya5m8JJX"
      },
      "source": [
        "#### 5. Sort elements in a stack\n",
        "\n",
        "Given two stacks:\n",
        "\n",
        "number_stack = [3,1,2]\n",
        "\n",
        "sorted_stack = []\n",
        "\n",
        "Create a **sort()** function to pop each element from the **number_stack** and push each element into the **sorted_stack**. The elements in **sorted_stack** must be in ascending order.\n",
        "\n",
        "----------------\n",
        "\n",
        "**Hint:**\n",
        "\n",
        "| iteration | number_stack | sorted_stack |\n",
        "| --- | --- | --- |\n",
        "| 1 | [3, 1, 2] | [] |\n",
        "| 2 | [3, 1] | [2] |\n",
        "| 3 | [3, 2] | [1] |\n",
        "| 4 | [3] | [1, 2] |\n",
        "| 5 | [] | [1, 2, 3] |\n",
        "\n",
        "**Expected output:**\n",
        "\n",
        "print(sorted_stack)\n",
        "\n",
        "[1, 2, 3]"
      ]
    },
    {
      "cell_type": "code",
      "execution_count": 160,
      "metadata": {
        "id": "XrLee2zo8JJX",
        "colab": {
          "base_uri": "https://localhost:8080/"
        },
        "outputId": "088e3d24-1182-437e-8a13-89438b07b1ff"
      },
      "outputs": [
        {
          "output_type": "stream",
          "name": "stdout",
          "text": [
            "pushed item:  3\n",
            "pushed item:  1\n",
            "pushed item:  2\n",
            "pushed item:  2\n",
            "pushed item:  2\n",
            "pushed item:  1\n",
            "pushed item:  2\n",
            "pushed item:  3\n",
            "\n",
            "Output:\n",
            "[1, 2, 3]\n"
          ]
        }
      ],
      "source": [
        "# put your answer here\n",
        "def sort(number_stack, sorted_stack):\n",
        "  while not(check_empty(number_stack)):\n",
        "    item = pop(number_stack)\n",
        "    while not(check_empty(sorted_stack)) and sorted_stack[-1] > item:\n",
        "      push(number_stack, pop(sorted_stack))\n",
        "\n",
        "    push(sorted_stack, item)\n",
        "  return sorted_stack\n",
        "\n",
        "number_stack = create_stack()\n",
        "sorted_stack = create_stack()\n",
        "\n",
        "push(number_stack, 3)\n",
        "push(number_stack, 1)\n",
        "push(number_stack, 2)\n",
        "\n",
        "sorted_stack = sort(number_stack, sorted_stack)\n",
        "print('\\nOutput:')\n",
        "print(sorted_stack)"
      ]
    }
  ],
  "metadata": {
    "kernelspec": {
      "display_name": "Python 3",
      "language": "python",
      "name": "python3"
    },
    "language_info": {
      "codemirror_mode": {
        "name": "ipython",
        "version": 3
      },
      "file_extension": ".py",
      "mimetype": "text/x-python",
      "name": "python",
      "nbconvert_exporter": "python",
      "pygments_lexer": "ipython3",
      "version": "3.11.4"
    },
    "orig_nbformat": 4,
    "colab": {
      "provenance": [],
      "include_colab_link": true
    }
  },
  "nbformat": 4,
  "nbformat_minor": 0
}
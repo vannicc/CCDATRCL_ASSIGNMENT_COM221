{
  "cells": [
    {
      "cell_type": "markdown",
      "metadata": {
        "id": "view-in-github",
        "colab_type": "text"
      },
      "source": [
        "<a href=\"https://colab.research.google.com/github/vannicc/CCDATRCL_ASSIGNMENT_COM221/blob/main/Exercise1_LIM.ipynb\" target=\"_parent\"><img src=\"https://colab.research.google.com/assets/colab-badge.svg\" alt=\"Open In Colab\"/></a>"
      ]
    },
    {
      "cell_type": "markdown",
      "metadata": {
        "id": "h2vFiYhGzZOg"
      },
      "source": [
        "# Exercise 1"
      ]
    },
    {
      "cell_type": "markdown",
      "source": [
        "## Class Initialization"
      ],
      "metadata": {
        "id": "sRm6kPQozcaU"
      }
    },
    {
      "cell_type": "code",
      "execution_count": null,
      "metadata": {
        "id": "b1u4Dt9mzZOi"
      },
      "outputs": [],
      "source": [
        "class Node:\n",
        "    def __init__(self, data):\n",
        "        self.data = data\n",
        "        self.next = None"
      ]
    },
    {
      "cell_type": "code",
      "execution_count": null,
      "metadata": {
        "id": "tigvHSaHzZOj"
      },
      "outputs": [],
      "source": [
        "class LinkedList:\n",
        "\n",
        "    def __init__(self):\n",
        "        self.head = None\n",
        "\n",
        "    def traverse(self, node):\n",
        "        while node:\n",
        "            print(node.data, end=\" -> \")\n",
        "            node = node.next"
      ]
    },
    {
      "cell_type": "code",
      "execution_count": null,
      "metadata": {
        "id": "LIkQBioVzZOk"
      },
      "outputs": [],
      "source": [
        "class DoublyLinkedList:\n",
        "\n",
        "    def __init__(self):\n",
        "        self.head = None\n",
        "\n",
        "    def traverse(self, node):\n",
        "        while node:\n",
        "            print(node.data, end=\" -> \")\n",
        "            node = node.next"
      ]
    },
    {
      "cell_type": "code",
      "execution_count": null,
      "metadata": {
        "id": "zlxNT5EozZOl"
      },
      "outputs": [],
      "source": [
        "class CircularLinkedList:\n",
        "\n",
        "    def __init__(self):\n",
        "        self.head = None\n",
        "\n",
        "    def traverse(self, node):\n",
        "\n",
        "        head = node\n",
        "\n",
        "        while node:\n",
        "            print(node.data, end=\" -> \")\n",
        "            node = node.next\n",
        "\n",
        "            # Break to prevent infinite loop\n",
        "            if node == head:\n",
        "                break"
      ]
    },
    {
      "cell_type": "markdown",
      "metadata": {
        "id": "O68-Q1-bzZOl"
      },
      "source": [
        "#### 1. Create a Singly Linked list\n",
        "\n",
        "- Each node should contain your name and your seatmates\n",
        "- Create at least 5 nodes\n",
        "- Traverse all nodes"
      ]
    },
    {
      "cell_type": "code",
      "execution_count": null,
      "metadata": {
        "id": "pTcx_OuPzZOl",
        "colab": {
          "base_uri": "https://localhost:8080/"
        },
        "outputId": "0e155496-f8b1-4b95-c6e4-80cc89e0ced6"
      },
      "outputs": [
        {
          "output_type": "stream",
          "name": "stdout",
          "text": [
            "Allen -> Gian -> Blix -> Tati -> Jerico -> "
          ]
        }
      ],
      "source": [
        "linked_list = LinkedList()\n",
        "\n",
        "linked_list.head = Node('Allen')\n",
        "node_b = Node('Gian')\n",
        "node_c = Node('Blix')\n",
        "node_d = Node('Tati')\n",
        "node_e = Node('Jerico')\n",
        "\n",
        "linked_list.head.next = node_b\n",
        "node_b.next = node_c\n",
        "node_c.next = node_d\n",
        "node_d.next = node_e\n",
        "\n",
        "linked_list.traverse(linked_list.head)"
      ]
    },
    {
      "cell_type": "markdown",
      "metadata": {
        "id": "IFgwbdw_zZOm"
      },
      "source": [
        "#### 2. Create a Doubly Linked list\n",
        "\n",
        "- Each node should contain your name and your seatmates\n",
        "- Create at least 5 nodes\n",
        "- Traverse all nodes"
      ]
    },
    {
      "cell_type": "code",
      "execution_count": null,
      "metadata": {
        "id": "8kQD2A_QzZOm",
        "colab": {
          "base_uri": "https://localhost:8080/"
        },
        "outputId": "9eb55bbb-aca7-4d63-b3a9-ffcdc38711e1"
      },
      "outputs": [
        {
          "output_type": "stream",
          "name": "stdout",
          "text": [
            "Allen -> Gian -> Blix -> Tati -> Jerico -> "
          ]
        }
      ],
      "source": [
        "class Node:\n",
        "    def __init__(self, data):\n",
        "        self.data = data\n",
        "        self.next = None\n",
        "        self.prev = None\n",
        "\n",
        "doubly_linked_list = DoublyLinkedList()\n",
        "\n",
        "doubly_linked_list.head = Node('Allen')\n",
        "node_b = Node('Gian')\n",
        "node_c = Node('Blix')\n",
        "node_d = Node('Tati')\n",
        "node_e = Node('Jerico')\n",
        "\n",
        "doubly_linked_list.head.prev = None\n",
        "doubly_linked_list.head.next = node_b\n",
        "\n",
        "node_b.prev = doubly_linked_list.head\n",
        "node_b.next = node_c\n",
        "\n",
        "node_c.prev = node_b\n",
        "node_c.next = node_d\n",
        "\n",
        "node_d.prev = node_c\n",
        "node_d.next = node_e\n",
        "\n",
        "node_e.prev = node_d\n",
        "node_e.next = None\n",
        "\n",
        "doubly_linked_list.traverse(doubly_linked_list.head)"
      ]
    },
    {
      "cell_type": "markdown",
      "metadata": {
        "id": "rtApbsCjzZOm"
      },
      "source": [
        "#### 2. Create a Circular Linked list\n",
        "\n",
        "- Each node should contain your name and your seatmates\n",
        "- Create at least 5 nodes\n",
        "- Traverse all nodes"
      ]
    },
    {
      "cell_type": "code",
      "execution_count": null,
      "metadata": {
        "id": "Gp1Oiq0jzZOn",
        "colab": {
          "base_uri": "https://localhost:8080/"
        },
        "outputId": "4d4bcd75-9c9e-4cf8-bca2-587d8d478816"
      },
      "outputs": [
        {
          "output_type": "stream",
          "name": "stdout",
          "text": [
            "Allen -> Gian -> Blix -> Tati -> Jerico -> "
          ]
        }
      ],
      "source": [
        "circular_linked_list = CircularLinkedList()\n",
        "\n",
        "circular_linked_list.head = Node('Allen')\n",
        "node_b = Node('Gian')\n",
        "node_c = Node('Blix')\n",
        "node_d = Node('Tati')\n",
        "node_e = Node('Jerico')\n",
        "\n",
        "circular_linked_list.head.prev = None\n",
        "circular_linked_list.head.next = node_b\n",
        "\n",
        "node_b.prev = circular_linked_list.head\n",
        "node_b.next = node_c\n",
        "\n",
        "node_c.prev = node_b\n",
        "node_c.next = node_d\n",
        "\n",
        "node_d.prev = node_c\n",
        "node_d.next = node_e\n",
        "\n",
        "node_e.prev = node_d\n",
        "node_e.next = circular_linked_list.head\n",
        "\n",
        "circular_linked_list.traverse(circular_linked_list.head)\n",
        "\n",
        "\n",
        "\n",
        "\n"
      ]
    }
  ],
  "metadata": {
    "kernelspec": {
      "display_name": "Python 3",
      "language": "python",
      "name": "python3"
    },
    "language_info": {
      "name": "python",
      "version": "3.11.4"
    },
    "orig_nbformat": 4,
    "colab": {
      "provenance": [],
      "include_colab_link": true
    }
  },
  "nbformat": 4,
  "nbformat_minor": 0
}
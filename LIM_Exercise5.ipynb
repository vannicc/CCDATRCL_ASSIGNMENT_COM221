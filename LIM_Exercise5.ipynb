{
  "cells": [
    {
      "cell_type": "markdown",
      "metadata": {
        "id": "view-in-github",
        "colab_type": "text"
      },
      "source": [
        "<a href=\"https://colab.research.google.com/github/vannicc/CCDATRCL_ASSIGNMENT_COM221/blob/main/LIM_Exercise5.ipynb\" target=\"_parent\"><img src=\"https://colab.research.google.com/assets/colab-badge.svg\" alt=\"Open In Colab\"/></a>"
      ]
    },
    {
      "cell_type": "markdown",
      "metadata": {
        "id": "E_WZaE6fBhDb"
      },
      "source": [
        "# Exercise 5"
      ]
    },
    {
      "cell_type": "markdown",
      "metadata": {
        "id": "H6-dYYZjBhDq"
      },
      "source": [
        "#### 1. Create a dictionary of your 10 favorite songs."
      ]
    },
    {
      "cell_type": "markdown",
      "metadata": {
        "id": "_kxc8_rWBhDs"
      },
      "source": [
        "Example:\n",
        "\n",
        "|KEY|VALUE|\n",
        "|---|---|\n",
        "|001|My Love|\n",
        "|002|Like a rose|"
      ]
    },
    {
      "cell_type": "code",
      "execution_count": 13,
      "metadata": {
        "id": "D6jMoDTHBhDv"
      },
      "outputs": [],
      "source": [
        "# put your answer here\n",
        "mySongs = dict(id001 = \"Ribs\", id002 = \"Perfect Places\", id003 = \"Good Days\", id004 = \"Untitled\", id005 = \"Janice\", id006 = \"White Ferrari\", id007 = \"Drew Barrymore\", id008 = \"Supercut\", id009 = \"Loyalty\", id010 = \"Oo\" )"
      ]
    },
    {
      "cell_type": "markdown",
      "metadata": {
        "id": "L43ajY6HBhD0"
      },
      "source": [
        "#### 2. Loop through the dictionary by its **key** and **value**"
      ]
    },
    {
      "cell_type": "code",
      "execution_count": 14,
      "metadata": {
        "id": "0z-VRuVMBhD2",
        "colab": {
          "base_uri": "https://localhost:8080/"
        },
        "outputId": "397e865c-427f-460e-f7e8-21178ce82086"
      },
      "outputs": [
        {
          "output_type": "stream",
          "name": "stdout",
          "text": [
            "id001 Ribs\n",
            "id002 Perfect Places\n",
            "id003 Good Days\n",
            "id004 Untitled\n",
            "id005 Janice\n",
            "id006 White Ferrari\n",
            "id007 Drew Barrymore\n",
            "id008 Supercut\n",
            "id009 Loyalty\n",
            "id010 Oo\n"
          ]
        }
      ],
      "source": [
        "# put your answer here\n",
        "for x, y in mySongs.items():\n",
        "  print(x, y)"
      ]
    },
    {
      "cell_type": "markdown",
      "metadata": {
        "id": "HqPMRHuhBhD4"
      },
      "source": [
        "#### 3. Add one additional song"
      ]
    },
    {
      "cell_type": "code",
      "execution_count": 15,
      "metadata": {
        "id": "Ll1LIhFXBhD5",
        "colab": {
          "base_uri": "https://localhost:8080/"
        },
        "outputId": "16477f38-c8f0-4909-f983-9f4b73e58429"
      },
      "outputs": [
        {
          "output_type": "execute_result",
          "data": {
            "text/plain": [
              "{'id001': 'Ribs',\n",
              " 'id002': 'Perfect Places',\n",
              " 'id003': 'Good Days',\n",
              " 'id004': 'Untitled',\n",
              " 'id005': 'Janice',\n",
              " 'id006': 'White Ferrari',\n",
              " 'id007': 'Drew Barrymore',\n",
              " 'id008': 'Supercut',\n",
              " 'id009': 'Loyalty',\n",
              " 'id010': 'Oo',\n",
              " 'id011': 'Demonyo'}"
            ]
          },
          "metadata": {},
          "execution_count": 15
        }
      ],
      "source": [
        "# put your answer here\n",
        "mySongs.update(id011 = \"Demonyo\")\n",
        "mySongs"
      ]
    },
    {
      "cell_type": "markdown",
      "metadata": {
        "id": "izcoo8blBhD7"
      },
      "source": [
        "#### 4. Remove one song"
      ]
    },
    {
      "cell_type": "code",
      "execution_count": 16,
      "metadata": {
        "id": "ap_luRVmBhD9",
        "colab": {
          "base_uri": "https://localhost:8080/"
        },
        "outputId": "82b9a258-7735-441f-c243-91c61e4fe270"
      },
      "outputs": [
        {
          "output_type": "execute_result",
          "data": {
            "text/plain": [
              "{'id001': 'Ribs',\n",
              " 'id002': 'Perfect Places',\n",
              " 'id003': 'Good Days',\n",
              " 'id004': 'Untitled',\n",
              " 'id005': 'Janice',\n",
              " 'id006': 'White Ferrari',\n",
              " 'id007': 'Drew Barrymore',\n",
              " 'id008': 'Supercut',\n",
              " 'id009': 'Loyalty',\n",
              " 'id010': 'Oo'}"
            ]
          },
          "metadata": {},
          "execution_count": 16
        }
      ],
      "source": [
        "# put your answer here\n",
        "mySongs.pop(\"id011\")\n",
        "mySongs\n"
      ]
    },
    {
      "cell_type": "markdown",
      "metadata": {
        "id": "nr6SEP3gBhD-"
      },
      "source": [
        "#### 5. Create a nested dictionary of your 10 favorite songs with 5 genres. Display all of the items of the nested dictionary\n",
        "\n",
        "- Each nested dictionary's key should be the genre of the song\n",
        "- Put each song in their respective genre"
      ]
    },
    {
      "cell_type": "markdown",
      "metadata": {
        "id": "SHhWMtE3BhD_"
      },
      "source": [
        "Example:\n",
        "\n",
        "\n",
        "|KEY|VALUE|\n",
        "|---|---|\n",
        "|Pop|{001, Baby}|\n",
        "|Rock|{001, Enter Sandman}|"
      ]
    },
    {
      "cell_type": "code",
      "execution_count": 26,
      "metadata": {
        "id": "yR1jIor9BhEA",
        "colab": {
          "base_uri": "https://localhost:8080/"
        },
        "outputId": "9156d042-93ea-44e1-a0a7-f4297e228652"
      },
      "outputs": [
        {
          "output_type": "execute_result",
          "data": {
            "text/plain": [
              "{'RnB': {'id001': 'Drew Barrymore'},\n",
              " 'Pop': {'id001': 'Perfect Places', 'id002': 'Good Days', 'id003': 'Supercut'},\n",
              " 'Alternative Indie': {'id001': 'Ribs',\n",
              "  'id002': 'Untitled',\n",
              "  'id003': 'White Ferrari'},\n",
              " 'OPM': {'id001': 'Janice', 'id002': 'Oo'},\n",
              " 'Rap': {'id001': 'Loyalty'}}"
            ]
          },
          "metadata": {},
          "execution_count": 26
        }
      ],
      "source": [
        "# put your answer here\n",
        "mySongs = {\"RnB\": {\"id001\" : \"Drew Barrymore\"},\n",
        "           \"Pop\": {\"id001\" : \"Perfect Places\", \"id002\" : \"Good Days\", \"id003\" : \"Supercut\"},\n",
        "           \"Alternative Indie\" : {\"id001\" : \"Ribs\", \"id002\" : \"Untitled\", \"id003\" : \"White Ferrari\"},\n",
        "           \"OPM\" : {\"id001\" : \"Janice\", \"id002\" : \"Oo\"},\n",
        "           \"Rap\": {\"id001\" : \"Loyalty\"}}\n",
        "mySongs"
      ]
    },
    {
      "cell_type": "markdown",
      "metadata": {
        "id": "I_BT6wG3BhEB"
      },
      "source": [
        "#### 6. Print the first song of the first genre"
      ]
    },
    {
      "cell_type": "code",
      "execution_count": 19,
      "metadata": {
        "id": "dD_voNLABhEB",
        "colab": {
          "base_uri": "https://localhost:8080/"
        },
        "outputId": "81541eb8-f3dc-4705-baf9-2c0b9def4d1e"
      },
      "outputs": [
        {
          "output_type": "stream",
          "name": "stdout",
          "text": [
            "Drew Barrymore\n"
          ]
        }
      ],
      "source": [
        "# put your answer here\n",
        "print(mySongs[\"RnB\"][\"id001\"])"
      ]
    },
    {
      "cell_type": "markdown",
      "metadata": {
        "id": "lo6zJyWwBhEC"
      },
      "source": [
        "#### 7. Print the first song of the last genre"
      ]
    },
    {
      "cell_type": "code",
      "execution_count": 25,
      "metadata": {
        "id": "aJxde4s9BhED",
        "colab": {
          "base_uri": "https://localhost:8080/"
        },
        "outputId": "d01d752e-e8ac-4a4e-8bad-424235838951"
      },
      "outputs": [
        {
          "output_type": "stream",
          "name": "stdout",
          "text": [
            "Loyalty\n"
          ]
        }
      ],
      "source": [
        "# put your answer here\n",
        "print(mySongs[\"Rap\"][\"id001\"])"
      ]
    }
  ],
  "metadata": {
    "kernelspec": {
      "display_name": "Python 3",
      "language": "python",
      "name": "python3"
    },
    "language_info": {
      "codemirror_mode": {
        "name": "ipython",
        "version": 3
      },
      "file_extension": ".py",
      "mimetype": "text/x-python",
      "name": "python",
      "nbconvert_exporter": "python",
      "pygments_lexer": "ipython3",
      "version": "3.11.4"
    },
    "orig_nbformat": 4,
    "colab": {
      "provenance": [],
      "include_colab_link": true
    }
  },
  "nbformat": 4,
  "nbformat_minor": 0
}